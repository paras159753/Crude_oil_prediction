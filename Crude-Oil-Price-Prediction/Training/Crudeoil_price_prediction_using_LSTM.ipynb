{
 "cells": [
  {
   "cell_type": "markdown",
   "metadata": {},
   "source": [
    "# Crude oil price prediction using LSTM"
   ]
  },
  {
   "cell_type": "raw",
   "metadata": {},
   "source": [
    "1.we will collect the data\n",
    "2.preprocess the data\n",
    "3.create an LSTM model\n",
    "4.predict the test data and plot the output\n",
    "5.predict the future 30 days and plot the output"
   ]
  },
  {
   "cell_type": "raw",
   "metadata": {},
   "source": [
    "Dataset linkhttps://www.kaggle.com/rockbottom73/crude-oil-prices"
   ]
  },
  {
   "cell_type": "markdown",
   "metadata": {},
   "source": [
    "### importing necessary libraries"
   ]
  },
  {
   "cell_type": "code",
   "execution_count": 1,
   "metadata": {},
   "outputs": [],
   "source": [
    "import pandas as pd\n",
    "import numpy as np\n",
    "import matplotlib.pyplot as plt"
   ]
  },
  {
   "cell_type": "markdown",
   "metadata": {},
   "source": [
    "# Importing dataset\n",
    "1.Since data is in form of excel file we have to use pandas read_excel to load the data\n",
    "2.After loading it is important to check the complete information of data as it can indication many of the hidden infomation such as null values in a column or a row\n",
    "3.Check whether any null values are there or not. if it is present then following can be done, a.Imputing data using Imputation method in sklearn b.Filling NaN values with mean, median and mode using fillna() method\n",
    "4.Describe data --> which can give statistical analysis"
   ]
  },
  {
   "cell_type": "code",
   "execution_count": 4,
   "metadata": {},
   "outputs": [],
   "source": [
    "data=pd.read_csv(r\"C:\\Users\\HP\\Desktop\\Crude-Oil-Price-Prediction-master\\dataset\\Crude Oil Prices Daily.csv\")"
   ]
  },
  {
   "cell_type": "code",
   "execution_count": 5,
   "metadata": {},
   "outputs": [
    {
     "data": {
      "text/html": [
       "<div>\n",
       "<style scoped>\n",
       "    .dataframe tbody tr th:only-of-type {\n",
       "        vertical-align: middle;\n",
       "    }\n",
       "\n",
       "    .dataframe tbody tr th {\n",
       "        vertical-align: top;\n",
       "    }\n",
       "\n",
       "    .dataframe thead th {\n",
       "        text-align: right;\n",
       "    }\n",
       "</style>\n",
       "<table border=\"1\" class=\"dataframe\">\n",
       "  <thead>\n",
       "    <tr style=\"text-align: right;\">\n",
       "      <th></th>\n",
       "      <th>Date</th>\n",
       "      <th>Closing Value</th>\n",
       "    </tr>\n",
       "  </thead>\n",
       "  <tbody>\n",
       "    <tr>\n",
       "      <th>0</th>\n",
       "      <td>02-01-1986</td>\n",
       "      <td>25.56</td>\n",
       "    </tr>\n",
       "    <tr>\n",
       "      <th>1</th>\n",
       "      <td>03-01-1986</td>\n",
       "      <td>26.00</td>\n",
       "    </tr>\n",
       "    <tr>\n",
       "      <th>2</th>\n",
       "      <td>06-01-1986</td>\n",
       "      <td>26.53</td>\n",
       "    </tr>\n",
       "    <tr>\n",
       "      <th>3</th>\n",
       "      <td>07-01-1986</td>\n",
       "      <td>25.85</td>\n",
       "    </tr>\n",
       "    <tr>\n",
       "      <th>4</th>\n",
       "      <td>08-01-1986</td>\n",
       "      <td>25.87</td>\n",
       "    </tr>\n",
       "  </tbody>\n",
       "</table>\n",
       "</div>"
      ],
      "text/plain": [
       "         Date  Closing Value\n",
       "0  02-01-1986          25.56\n",
       "1  03-01-1986          26.00\n",
       "2  06-01-1986          26.53\n",
       "3  07-01-1986          25.85\n",
       "4  08-01-1986          25.87"
      ]
     },
     "execution_count": 5,
     "metadata": {},
     "output_type": "execute_result"
    }
   ],
   "source": [
    "data.head()"
   ]
  },
  {
   "cell_type": "code",
   "execution_count": 6,
   "metadata": {},
   "outputs": [
    {
     "data": {
      "text/html": [
       "<div>\n",
       "<style scoped>\n",
       "    .dataframe tbody tr th:only-of-type {\n",
       "        vertical-align: middle;\n",
       "    }\n",
       "\n",
       "    .dataframe tbody tr th {\n",
       "        vertical-align: top;\n",
       "    }\n",
       "\n",
       "    .dataframe thead th {\n",
       "        text-align: right;\n",
       "    }\n",
       "</style>\n",
       "<table border=\"1\" class=\"dataframe\">\n",
       "  <thead>\n",
       "    <tr style=\"text-align: right;\">\n",
       "      <th></th>\n",
       "      <th>Date</th>\n",
       "      <th>Closing Value</th>\n",
       "    </tr>\n",
       "  </thead>\n",
       "  <tbody>\n",
       "    <tr>\n",
       "      <th>8218</th>\n",
       "      <td>03-07-2018</td>\n",
       "      <td>74.19</td>\n",
       "    </tr>\n",
       "    <tr>\n",
       "      <th>8219</th>\n",
       "      <td>04-07-2018</td>\n",
       "      <td>NaN</td>\n",
       "    </tr>\n",
       "    <tr>\n",
       "      <th>8220</th>\n",
       "      <td>05-07-2018</td>\n",
       "      <td>73.05</td>\n",
       "    </tr>\n",
       "    <tr>\n",
       "      <th>8221</th>\n",
       "      <td>06-07-2018</td>\n",
       "      <td>73.78</td>\n",
       "    </tr>\n",
       "    <tr>\n",
       "      <th>8222</th>\n",
       "      <td>09-07-2018</td>\n",
       "      <td>73.93</td>\n",
       "    </tr>\n",
       "  </tbody>\n",
       "</table>\n",
       "</div>"
      ],
      "text/plain": [
       "            Date  Closing Value\n",
       "8218  03-07-2018          74.19\n",
       "8219  04-07-2018            NaN\n",
       "8220  05-07-2018          73.05\n",
       "8221  06-07-2018          73.78\n",
       "8222  09-07-2018          73.93"
      ]
     },
     "execution_count": 6,
     "metadata": {},
     "output_type": "execute_result"
    }
   ],
   "source": [
    "data.tail()"
   ]
  },
  {
   "cell_type": "code",
   "execution_count": 7,
   "metadata": {},
   "outputs": [
    {
     "data": {
      "text/html": [
       "<div>\n",
       "<style scoped>\n",
       "    .dataframe tbody tr th:only-of-type {\n",
       "        vertical-align: middle;\n",
       "    }\n",
       "\n",
       "    .dataframe tbody tr th {\n",
       "        vertical-align: top;\n",
       "    }\n",
       "\n",
       "    .dataframe thead th {\n",
       "        text-align: right;\n",
       "    }\n",
       "</style>\n",
       "<table border=\"1\" class=\"dataframe\">\n",
       "  <thead>\n",
       "    <tr style=\"text-align: right;\">\n",
       "      <th></th>\n",
       "      <th>Closing Value</th>\n",
       "    </tr>\n",
       "  </thead>\n",
       "  <tbody>\n",
       "    <tr>\n",
       "      <th>count</th>\n",
       "      <td>8216.000000</td>\n",
       "    </tr>\n",
       "    <tr>\n",
       "      <th>mean</th>\n",
       "      <td>43.492139</td>\n",
       "    </tr>\n",
       "    <tr>\n",
       "      <th>std</th>\n",
       "      <td>29.616804</td>\n",
       "    </tr>\n",
       "    <tr>\n",
       "      <th>min</th>\n",
       "      <td>10.250000</td>\n",
       "    </tr>\n",
       "    <tr>\n",
       "      <th>25%</th>\n",
       "      <td>19.577500</td>\n",
       "    </tr>\n",
       "    <tr>\n",
       "      <th>50%</th>\n",
       "      <td>29.610000</td>\n",
       "    </tr>\n",
       "    <tr>\n",
       "      <th>75%</th>\n",
       "      <td>63.402500</td>\n",
       "    </tr>\n",
       "    <tr>\n",
       "      <th>max</th>\n",
       "      <td>145.310000</td>\n",
       "    </tr>\n",
       "  </tbody>\n",
       "</table>\n",
       "</div>"
      ],
      "text/plain": [
       "       Closing Value\n",
       "count    8216.000000\n",
       "mean       43.492139\n",
       "std        29.616804\n",
       "min        10.250000\n",
       "25%        19.577500\n",
       "50%        29.610000\n",
       "75%        63.402500\n",
       "max       145.310000"
      ]
     },
     "execution_count": 7,
     "metadata": {},
     "output_type": "execute_result"
    }
   ],
   "source": [
    "data.describe()"
   ]
  },
  {
   "cell_type": "code",
   "execution_count": 8,
   "metadata": {},
   "outputs": [
    {
     "name": "stdout",
     "output_type": "stream",
     "text": [
      "<class 'pandas.core.frame.DataFrame'>\n",
      "RangeIndex: 8223 entries, 0 to 8222\n",
      "Data columns (total 2 columns):\n",
      " #   Column         Non-Null Count  Dtype  \n",
      "---  ------         --------------  -----  \n",
      " 0   Date           8223 non-null   object \n",
      " 1   Closing Value  8216 non-null   float64\n",
      "dtypes: float64(1), object(1)\n",
      "memory usage: 128.6+ KB\n"
     ]
    }
   ],
   "source": [
    "data.info()"
   ]
  },
  {
   "cell_type": "markdown",
   "metadata": {},
   "source": [
    "# Data Preprocessing"
   ]
  },
  {
   "cell_type": "markdown",
   "metadata": {},
   "source": [
    "## Checking or null values"
   ]
  },
  {
   "cell_type": "code",
   "execution_count": 9,
   "metadata": {},
   "outputs": [
    {
     "data": {
      "text/plain": [
       "Date             False\n",
       "Closing Value     True\n",
       "dtype: bool"
      ]
     },
     "execution_count": 9,
     "metadata": {},
     "output_type": "execute_result"
    }
   ],
   "source": [
    "data.isnull().any()"
   ]
  },
  {
   "cell_type": "code",
   "execution_count": 10,
   "metadata": {},
   "outputs": [
    {
     "data": {
      "text/plain": [
       "Date             0\n",
       "Closing Value    7\n",
       "dtype: int64"
      ]
     },
     "execution_count": 10,
     "metadata": {},
     "output_type": "execute_result"
    }
   ],
   "source": [
    "data.isnull().sum()"
   ]
  },
  {
   "cell_type": "code",
   "execution_count": 11,
   "metadata": {},
   "outputs": [],
   "source": [
    "data.dropna(axis=0,inplace=True)"
   ]
  },
  {
   "cell_type": "code",
   "execution_count": 12,
   "metadata": {},
   "outputs": [
    {
     "data": {
      "text/plain": [
       "Date             0\n",
       "Closing Value    0\n",
       "dtype: int64"
      ]
     },
     "execution_count": 12,
     "metadata": {},
     "output_type": "execute_result"
    }
   ],
   "source": [
    "data.isnull().sum()"
   ]
  },
  {
   "cell_type": "code",
   "execution_count": null,
   "metadata": {},
   "outputs": [],
   "source": []
  },
  {
   "cell_type": "code",
   "execution_count": 13,
   "metadata": {},
   "outputs": [
    {
     "data": {
      "text/plain": [
       "(8216, 2)"
      ]
     },
     "execution_count": 13,
     "metadata": {},
     "output_type": "execute_result"
    }
   ],
   "source": [
    "data.shape"
   ]
  },
  {
   "cell_type": "code",
   "execution_count": 14,
   "metadata": {},
   "outputs": [],
   "source": [
    "import tensorflow as tf"
   ]
  },
  {
   "cell_type": "code",
   "execution_count": 15,
   "metadata": {},
   "outputs": [
    {
     "data": {
      "text/plain": [
       "'2.3.0'"
      ]
     },
     "execution_count": 15,
     "metadata": {},
     "output_type": "execute_result"
    }
   ],
   "source": [
    "tf.__version__"
   ]
  },
  {
   "cell_type": "code",
   "execution_count": 16,
   "metadata": {},
   "outputs": [
    {
     "name": "stderr",
     "output_type": "stream",
     "text": [
      "Using TensorFlow backend.\n"
     ]
    }
   ],
   "source": [
    "import keras"
   ]
  },
  {
   "cell_type": "code",
   "execution_count": 17,
   "metadata": {},
   "outputs": [
    {
     "data": {
      "text/plain": [
       "'2.2.4'"
      ]
     },
     "execution_count": 17,
     "metadata": {},
     "output_type": "execute_result"
    }
   ],
   "source": [
    "keras.__version__"
   ]
  },
  {
   "cell_type": "markdown",
   "metadata": {},
   "source": [
    "### Selecting Closing value column for prediction"
   ]
  },
  {
   "cell_type": "code",
   "execution_count": 18,
   "metadata": {},
   "outputs": [],
   "source": [
    "data_oil=data.reset_index()['Closing Value']"
   ]
  },
  {
   "cell_type": "code",
   "execution_count": 19,
   "metadata": {},
   "outputs": [
    {
     "data": {
      "text/plain": [
       "0       25.56\n",
       "1       26.00\n",
       "2       26.53\n",
       "3       25.85\n",
       "4       25.87\n",
       "        ...  \n",
       "8211    73.89\n",
       "8212    74.19\n",
       "8213    73.05\n",
       "8214    73.78\n",
       "8215    73.93\n",
       "Name: Closing Value, Length: 8216, dtype: float64"
      ]
     },
     "execution_count": 19,
     "metadata": {},
     "output_type": "execute_result"
    }
   ],
   "source": [
    "data_oil"
   ]
  },
  {
   "cell_type": "code",
   "execution_count": 20,
   "metadata": {},
   "outputs": [
    {
     "data": {
      "text/plain": [
       "[<matplotlib.lines.Line2D at 0x2587ae11748>]"
      ]
     },
     "execution_count": 20,
     "metadata": {},
     "output_type": "execute_result"
    },
    {
     "data": {
      "image/png": "[encoded data removed]",
      "text/plain": [
       "<Figure size 432x288 with 1 Axes>"
      ]
     },
     "metadata": {
      "needs_background": "light"
     },
     "output_type": "display_data"
    }
   ],
   "source": [
    "plt.plot(data_oil)"
   ]
  },
  {
   "cell_type": "code",
   "execution_count": 21,
   "metadata": {},
   "outputs": [],
   "source": [
    "### LSTM are sensitive to the scale of the data. so we apply MinMax scaler"
   ]
  },
  {
   "cell_type": "code",
   "execution_count": 22,
   "metadata": {},
   "outputs": [],
   "source": [
    "#Featuring Scaling\n",
    "from sklearn.preprocessing import MinMaxScaler\n",
    "scaler=MinMaxScaler(feature_range=(0,1))\n",
    "data_oil=scaler.fit_transform(np.array(data_oil).reshape(-1,1))"
   ]
  },
  {
   "cell_type": "code",
   "execution_count": 23,
   "metadata": {},
   "outputs": [
    {
     "name": "stdout",
     "output_type": "stream",
     "text": [
      "[[0.11335703]\n",
      " [0.11661484]\n",
      " [0.12053902]\n",
      " ...\n",
      " [0.46497853]\n",
      " [0.47038353]\n",
      " [0.47149415]]\n"
     ]
    }
   ],
   "source": [
    "print(data_oil)"
   ]
  },
  {
   "cell_type": "markdown",
   "metadata": {},
   "source": [
    "### splitting dataset into train and test split"
   ]
  },
  {
   "cell_type": "code",
   "execution_count": 24,
   "metadata": {},
   "outputs": [],
   "source": [
    "\n",
    "training_size=int(len(data_oil)*0.65)\n",
    "test_size=len(data_oil)-training_size\n",
    "train_data,test_data=data_oil[0:training_size,:],data_oil[training_size:len(data_oil),:1]\n"
   ]
  },
  {
   "cell_type": "code",
   "execution_count": 25,
   "metadata": {},
   "outputs": [
    {
     "data": {
      "text/plain": [
       "(5340, 2876)"
      ]
     },
     "execution_count": 25,
     "metadata": {},
     "output_type": "execute_result"
    }
   ],
   "source": [
    "training_size,test_size\n"
   ]
  },
  {
   "cell_type": "code",
   "execution_count": 26,
   "metadata": {},
   "outputs": [
    {
     "data": {
      "text/plain": [
       "array([[0.11335703],\n",
       "       [0.11661484],\n",
       "       [0.12053902],\n",
       "       ...,\n",
       "       [0.37916482],\n",
       "       [0.38153413],\n",
       "       [0.38294092]])"
      ]
     },
     "execution_count": 26,
     "metadata": {},
     "output_type": "execute_result"
    }
   ],
   "source": [
    "train_data"
   ]
  },
  {
   "cell_type": "code",
   "execution_count": 27,
   "metadata": {},
   "outputs": [
    {
     "data": {
      "text/plain": [
       "(5340, 1)"
      ]
     },
     "execution_count": 27,
     "metadata": {},
     "output_type": "execute_result"
    }
   ],
   "source": [
    "train_data.shape"
   ]
  },
  {
   "cell_type": "code",
   "execution_count": 28,
   "metadata": {},
   "outputs": [],
   "source": [
    "\n",
    "# convert an array of values into a dataset matrix\n",
    "def create_dataset(dataset, time_step=1):\n",
    "\tdataX, dataY = [], []\n",
    "\tfor i in range(len(dataset)-time_step-1):\n",
    "\t\ta = dataset[i:(i+time_step), 0]   ###i=0, 0,1,2,3-----99   100 \n",
    "\t\tdataX.append(a)\n",
    "\t\tdataY.append(dataset[i + time_step, 0])\n",
    "\treturn np.array(dataX), np.array(dataY)"
   ]
  },
  {
   "cell_type": "code",
   "execution_count": 29,
   "metadata": {},
   "outputs": [],
   "source": [
    "# reshape into X=t,t+1,t+2,t+3 and Y=t+4\n",
    "time_step = 10\n",
    "X_train, y_train = create_dataset(train_data, time_step)\n",
    "X_test, ytest = create_dataset(test_data, time_step)"
   ]
  },
  {
   "cell_type": "code",
   "execution_count": 30,
   "metadata": {},
   "outputs": [
    {
     "name": "stdout",
     "output_type": "stream",
     "text": [
      "(5329, 10)\n",
      "(5329,)\n"
     ]
    },
    {
     "data": {
      "text/plain": [
       "(None, None)"
      ]
     },
     "execution_count": 30,
     "metadata": {},
     "output_type": "execute_result"
    }
   ],
   "source": [
    "print(X_train.shape), print(y_train.shape)"
   ]
  },
  {
   "cell_type": "code",
   "execution_count": 31,
   "metadata": {},
   "outputs": [
    {
     "name": "stdout",
     "output_type": "stream",
     "text": [
      "(2865, 10)\n",
      "(2865,)\n"
     ]
    },
    {
     "data": {
      "text/plain": [
       "(None, None)"
      ]
     },
     "execution_count": 31,
     "metadata": {},
     "output_type": "execute_result"
    }
   ],
   "source": [
    "print(X_test.shape), print(ytest.shape)"
   ]
  },
  {
   "cell_type": "code",
   "execution_count": 32,
   "metadata": {},
   "outputs": [
    {
     "data": {
      "text/plain": [
       "array([[0.11335703, 0.11661484, 0.12053902, ..., 0.10980305, 0.1089886 ,\n",
       "        0.11054346],\n",
       "       [0.11661484, 0.12053902, 0.11550422, ..., 0.1089886 , 0.11054346,\n",
       "        0.10165852],\n",
       "       [0.12053902, 0.11550422, 0.1156523 , ..., 0.11054346, 0.10165852,\n",
       "        0.09906708],\n",
       "       ...,\n",
       "       [0.36731823, 0.35176958, 0.36080261, ..., 0.36391234, 0.37042796,\n",
       "        0.37042796],\n",
       "       [0.35176958, 0.36080261, 0.35354657, ..., 0.37042796, 0.37042796,\n",
       "        0.37879461],\n",
       "       [0.36080261, 0.35354657, 0.35295424, ..., 0.37042796, 0.37879461,\n",
       "        0.37916482]])"
      ]
     },
     "execution_count": 32,
     "metadata": {},
     "output_type": "execute_result"
    }
   ],
   "source": [
    "X_train"
   ]
  },
  {
   "cell_type": "code",
   "execution_count": 33,
   "metadata": {},
   "outputs": [
    {
     "data": {
      "text/plain": [
       "array([0.10165852, 0.09906708, 0.08203761, ..., 0.37879461, 0.37916482,\n",
       "       0.38153413])"
      ]
     },
     "execution_count": 33,
     "metadata": {},
     "output_type": "execute_result"
    }
   ],
   "source": [
    "y_train"
   ]
  },
  {
   "cell_type": "code",
   "execution_count": 34,
   "metadata": {},
   "outputs": [],
   "source": [
    "# reshape input to be [samples, time steps, features] which is required for LSTM\n",
    "X_train =X_train.reshape(X_train.shape[0],X_train.shape[1] , 1)\n",
    "X_test = X_test.reshape(X_test.shape[0],X_test.shape[1] , 1)"
   ]
  },
  {
   "cell_type": "markdown",
   "metadata": {},
   "source": [
    "## Create the Stacked LSTM model"
   ]
  },
  {
   "cell_type": "code",
   "execution_count": 35,
   "metadata": {},
   "outputs": [],
   "source": [
    "#tensorflow :open source used for both ML and DL for computation\n",
    "from tensorflow.keras.models import Sequential#it is a plain stack of layers\n",
    "from tensorflow.keras.layers import Dense#Dense layer is the regular deeply connected neural network layer\n",
    "from tensorflow.keras.layers import LSTM #Long Short Trem Memory"
   ]
  },
  {
   "cell_type": "code",
   "execution_count": 36,
   "metadata": {},
   "outputs": [],
   "source": [
    "model=Sequential()\n",
    "model.add(LSTM(50,return_sequences=True,input_shape=(10,1)))\n",
    "model.add(LSTM(50,return_sequences=True))\n",
    "model.add(LSTM(50))\n",
    "model.add(Dense(1))\n",
    "model.compile(loss='mean_squared_error',optimizer='adam')"
   ]
  },
  {
   "cell_type": "code",
   "execution_count": 37,
   "metadata": {},
   "outputs": [
    {
     "name": "stdout",
     "output_type": "stream",
     "text": [
      "Model: \"sequential\"\n",
      "_________________________________________________________________\n",
      "Layer (type)                 Output Shape              Param #   \n",
      "=================================================================\n",
      "lstm (LSTM)                  (None, 10, 50)            10400     \n",
      "_________________________________________________________________\n",
      "lstm_1 (LSTM)                (None, 10, 50)            20200     \n",
      "_________________________________________________________________\n",
      "lstm_2 (LSTM)                (None, 50)                20200     \n",
      "_________________________________________________________________\n",
      "dense (Dense)                (None, 1)                 51        \n",
      "=================================================================\n",
      "Total params: 50,851\n",
      "Trainable params: 50,851\n",
      "Non-trainable params: 0\n",
      "_________________________________________________________________\n"
     ]
    }
   ],
   "source": [
    "model.summary()"
   ]
  },
  {
   "cell_type": "code",
   "execution_count": 38,
   "metadata": {},
   "outputs": [
    {
     "name": "stdout",
     "output_type": "stream",
     "text": [
      "Model: \"sequential\"\n",
      "_________________________________________________________________\n",
      "Layer (type)                 Output Shape              Param #   \n",
      "=================================================================\n",
      "lstm (LSTM)                  (None, 10, 50)            10400     \n",
      "_________________________________________________________________\n",
      "lstm_1 (LSTM)                (None, 10, 50)            20200     \n",
      "_________________________________________________________________\n",
      "lstm_2 (LSTM)                (None, 50)                20200     \n",
      "_________________________________________________________________\n",
      "dense (Dense)                (None, 1)                 51        \n",
      "=================================================================\n",
      "Total params: 50,851\n",
      "Trainable params: 50,851\n",
      "Non-trainable params: 0\n",
      "_________________________________________________________________\n"
     ]
    }
   ],
   "source": [
    "model.summary()"
   ]
  },
  {
   "cell_type": "code",
   "execution_count": 39,
   "metadata": {},
   "outputs": [
    {
     "name": "stdout",
     "output_type": "stream",
     "text": [
      "Epoch 1/50\n",
      "84/84 [==============================] - 4s 49ms/step - loss: 0.0022 - val_loss: 7.9016e-04\n",
      "Epoch 2/50\n",
      "84/84 [==============================] - 2s 29ms/step - loss: 1.2725e-04 - val_loss: 7.8271e-04\n",
      "Epoch 3/50\n",
      "84/84 [==============================] - 2s 29ms/step - loss: 1.2808e-04 - val_loss: 7.7555e-04\n",
      "Epoch 4/50\n",
      "84/84 [==============================] - 2s 29ms/step - loss: 1.2519e-04 - val_loss: 8.0950e-04\n",
      "Epoch 5/50\n",
      "84/84 [==============================] - 2s 29ms/step - loss: 1.2639e-04 - val_loss: 8.0210e-04\n",
      "Epoch 6/50\n",
      "84/84 [==============================] - 2s 29ms/step - loss: 1.2222e-04 - val_loss: 0.0011\n",
      "Epoch 7/50\n",
      "84/84 [==============================] - 2s 29ms/step - loss: 1.2744e-04 - val_loss: 8.5788e-04\n",
      "Epoch 8/50\n",
      "84/84 [==============================] - 2s 29ms/step - loss: 1.1705e-04 - val_loss: 7.3023e-04\n",
      "Epoch 9/50\n",
      "84/84 [==============================] - 2s 29ms/step - loss: 1.2215e-04 - val_loss: 8.1341e-04\n",
      "Epoch 10/50\n",
      "84/84 [==============================] - 2s 29ms/step - loss: 1.1875e-04 - val_loss: 7.4712e-04\n",
      "Epoch 11/50\n",
      "84/84 [==============================] - 2s 29ms/step - loss: 1.1537e-04 - val_loss: 6.7707e-04\n",
      "Epoch 12/50\n",
      "84/84 [==============================] - 2s 28ms/step - loss: 1.1356e-04 - val_loss: 7.1687e-04\n",
      "Epoch 13/50\n",
      "84/84 [==============================] - 2s 27ms/step - loss: 1.0908e-04 - val_loss: 8.6801e-04\n",
      "Epoch 14/50\n",
      "84/84 [==============================] - 2s 28ms/step - loss: 1.2921e-04 - val_loss: 6.1134e-04\n",
      "Epoch 15/50\n",
      "84/84 [==============================] - 2s 28ms/step - loss: 1.0197e-04 - val_loss: 9.6780e-04\n",
      "Epoch 16/50\n",
      "84/84 [==============================] - 2s 28ms/step - loss: 1.0457e-04 - val_loss: 5.7620e-04\n",
      "Epoch 17/50\n",
      "84/84 [==============================] - 2s 27ms/step - loss: 1.0320e-04 - val_loss: 5.7733e-04\n",
      "Epoch 18/50\n",
      "84/84 [==============================] - 2s 24ms/step - loss: 9.4803e-05 - val_loss: 0.0011\n",
      "Epoch 19/50\n",
      "84/84 [==============================] - 2s 28ms/step - loss: 9.3668e-05 - val_loss: 5.7421e-04\n",
      "Epoch 20/50\n",
      "84/84 [==============================] - 2s 28ms/step - loss: 8.9112e-05 - val_loss: 4.7750e-04\n",
      "Epoch 21/50\n",
      "84/84 [==============================] - 2s 28ms/step - loss: 8.0884e-05 - val_loss: 0.0020\n",
      "Epoch 22/50\n",
      "84/84 [==============================] - 2s 28ms/step - loss: 8.8563e-05 - val_loss: 4.5840e-04\n",
      "Epoch 23/50\n",
      "84/84 [==============================] - 2s 28ms/step - loss: 7.7115e-05 - val_loss: 4.2466e-04\n",
      "Epoch 24/50\n",
      "84/84 [==============================] - 2s 27ms/step - loss: 7.1911e-05 - val_loss: 6.5287e-04\n",
      "Epoch 25/50\n",
      "84/84 [==============================] - 2s 27ms/step - loss: 7.6126e-05 - val_loss: 4.1299e-04\n",
      "Epoch 26/50\n",
      "84/84 [==============================] - 2s 28ms/step - loss: 7.1691e-05 - val_loss: 3.2283e-04\n",
      "Epoch 27/50\n",
      "84/84 [==============================] - 2s 28ms/step - loss: 7.1335e-05 - val_loss: 3.1381e-04\n",
      "Epoch 28/50\n",
      "84/84 [==============================] - 2s 28ms/step - loss: 6.4287e-05 - val_loss: 4.4207e-04\n",
      "Epoch 29/50\n",
      "84/84 [==============================] - 2s 28ms/step - loss: 7.1690e-05 - val_loss: 5.8319e-04\n",
      "Epoch 30/50\n",
      "84/84 [==============================] - 2s 28ms/step - loss: 6.3080e-05 - val_loss: 2.6660e-04\n",
      "Epoch 31/50\n",
      "84/84 [==============================] - 2s 28ms/step - loss: 6.0165e-05 - val_loss: 5.2384e-04\n",
      "Epoch 32/50\n",
      "84/84 [==============================] - 2s 28ms/step - loss: 6.0483e-05 - val_loss: 2.8769e-04\n",
      "Epoch 33/50\n",
      "84/84 [==============================] - 2s 28ms/step - loss: 5.3267e-05 - val_loss: 3.9697e-04\n",
      "Epoch 34/50\n",
      "84/84 [==============================] - 2s 28ms/step - loss: 6.1644e-05 - val_loss: 2.4894e-04\n",
      "Epoch 35/50\n",
      "84/84 [==============================] - 2s 28ms/step - loss: 4.9838e-05 - val_loss: 2.1648e-04\n",
      "Epoch 36/50\n",
      "84/84 [==============================] - 2s 28ms/step - loss: 4.8373e-05 - val_loss: 3.0364e-04\n",
      "Epoch 37/50\n",
      "84/84 [==============================] - 2s 28ms/step - loss: 4.9599e-05 - val_loss: 2.0801e-04\n",
      "Epoch 38/50\n",
      "84/84 [==============================] - 2s 27ms/step - loss: 4.8010e-05 - val_loss: 5.7176e-04\n",
      "Epoch 39/50\n",
      "84/84 [==============================] - 2s 28ms/step - loss: 4.8057e-05 - val_loss: 2.9742e-04\n",
      "Epoch 40/50\n",
      "84/84 [==============================] - 2s 28ms/step - loss: 4.1645e-05 - val_loss: 1.8137e-04\n",
      "Epoch 41/50\n",
      "84/84 [==============================] - 2s 28ms/step - loss: 4.3373e-05 - val_loss: 1.8442e-04\n",
      "Epoch 42/50\n",
      "84/84 [==============================] - 2s 27ms/step - loss: 3.9806e-05 - val_loss: 2.1689e-04\n",
      "Epoch 43/50\n",
      "84/84 [==============================] - 2s 24ms/step - loss: 4.0686e-05 - val_loss: 2.5125e-04\n",
      "Epoch 44/50\n",
      "84/84 [==============================] - 2s 27ms/step - loss: 3.7525e-05 - val_loss: 2.6622e-04\n",
      "Epoch 45/50\n",
      "84/84 [==============================] - 2s 28ms/step - loss: 3.9304e-05 - val_loss: 2.7516e-04\n",
      "Epoch 46/50\n",
      "84/84 [==============================] - 2s 28ms/step - loss: 4.0747e-05 - val_loss: 5.4466e-04\n",
      "Epoch 47/50\n",
      "84/84 [==============================] - 2s 28ms/step - loss: 3.7114e-05 - val_loss: 3.1795e-04\n",
      "Epoch 48/50\n",
      "84/84 [==============================] - 2s 28ms/step - loss: 3.8770e-05 - val_loss: 2.9134e-04\n",
      "Epoch 49/50\n",
      "84/84 [==============================] - 2s 27ms/step - loss: 3.4508e-05 - val_loss: 2.4564e-04\n",
      "Epoch 50/50\n",
      "84/84 [==============================] - 2s 28ms/step - loss: 3.6101e-05 - val_loss: 1.8935e-04\n"
     ]
    },
    {
     "data": {
      "text/plain": [
       "<tensorflow.python.keras.callbacks.History at 0x2587e232ba8>"
      ]
     },
     "execution_count": 39,
     "metadata": {},
     "output_type": "execute_result"
    }
   ],
   "source": [
    "#Training the model\n",
    "model.fit(X_train,y_train,validation_data=(X_test,ytest),epochs=50,batch_size=64,verbose=1)"
   ]
  },
  {
   "cell_type": "code",
   "execution_count": 40,
   "metadata": {},
   "outputs": [],
   "source": [
    "## Lets Do the prediction and check performance metrics\n",
    "train_predict=model.predict(X_train)\n",
    "test_predict=model.predict(X_test)"
   ]
  },
  {
   "cell_type": "code",
   "execution_count": 41,
   "metadata": {},
   "outputs": [],
   "source": [
    "\n",
    "##Transformback to original form\n",
    "train_predict=scaler.inverse_transform(train_predict)\n",
    "test_predict=scaler.inverse_transform(test_predict)"
   ]
  },
  {
   "cell_type": "markdown",
   "metadata": {},
   "source": [
    "### model evaluation"
   ]
  },
  {
   "cell_type": "code",
   "execution_count": 42,
   "metadata": {},
   "outputs": [
    {
     "data": {
      "text/plain": [
       "29.250575916252494"
      ]
     },
     "execution_count": 42,
     "metadata": {},
     "output_type": "execute_result"
    }
   ],
   "source": [
    "### Calculate RMSE performance metrics\n",
    "import math\n",
    "from sklearn.metrics import mean_squared_error\n",
    "math.sqrt(mean_squared_error(y_train,train_predict))"
   ]
  },
  {
   "cell_type": "code",
   "execution_count": 43,
   "metadata": {},
   "outputs": [
    {
     "data": {
      "text/plain": [
       "78.44707844316629"
      ]
     },
     "execution_count": 43,
     "metadata": {},
     "output_type": "execute_result"
    }
   ],
   "source": [
    "### Test Data RMSE\n",
    "math.sqrt(mean_squared_error(ytest,test_predict))"
   ]
  },
  {
   "cell_type": "markdown",
   "metadata": {},
   "source": [
    "## Predict the train and test data and plot the output"
   ]
  },
  {
   "cell_type": "code",
   "execution_count": 44,
   "metadata": {},
   "outputs": [
    {
     "data": {
      "image/png": "[encoded data removed]",
      "text/plain": [
       "<Figure size 432x288 with 1 Axes>"
      ]
     },
     "metadata": {
      "needs_background": "light"
     },
     "output_type": "display_data"
    }
   ],
   "source": [
    "### Plotting \n",
    "# shift train predictions for plotting\n",
    "look_back=10\n",
    "trainPredictPlot = np.empty_like(data_oil)\n",
    "trainPredictPlot[:, :] = np.nan\n",
    "trainPredictPlot[look_back:len(train_predict)+look_back, :] = train_predict\n",
    "# shift test predictions for plotting\n",
    "testPredictPlot = np.empty_like(data_oil)\n",
    "testPredictPlot[:, :] = np.nan\n",
    "testPredictPlot[len(train_predict)+(look_back*2)+1:len(data_oil)-1, :] = test_predict\n",
    "# plot baseline and predictions\n",
    "plt.plot(scaler.inverse_transform(data_oil))\n",
    "plt.plot(trainPredictPlot)\n",
    "plt.plot(testPredictPlot)\n",
    "plt.show()"
   ]
  },
  {
   "cell_type": "code",
   "execution_count": 45,
   "metadata": {},
   "outputs": [],
   "source": [
    "model.save(\"crude_oil.h5\")"
   ]
  },
  {
   "cell_type": "code",
   "execution_count": 46,
   "metadata": {},
   "outputs": [],
   "source": [
    "#prediction for next 10 days"
   ]
  },
  {
   "cell_type": "code",
   "execution_count": 47,
   "metadata": {},
   "outputs": [
    {
     "data": {
      "text/plain": [
       "2876"
      ]
     },
     "execution_count": 47,
     "metadata": {},
     "output_type": "execute_result"
    }
   ],
   "source": [
    "len(test_data)"
   ]
  },
  {
   "cell_type": "code",
   "execution_count": 48,
   "metadata": {},
   "outputs": [
    {
     "data": {
      "text/plain": [
       "(1, 10)"
      ]
     },
     "execution_count": 48,
     "metadata": {},
     "output_type": "execute_result"
    }
   ],
   "source": [
    "x_input=test_data[2866:].reshape(1,-1)\n",
    "x_input.shape"
   ]
  },
  {
   "cell_type": "code",
   "execution_count": null,
   "metadata": {},
   "outputs": [],
   "source": []
  },
  {
   "cell_type": "code",
   "execution_count": 49,
   "metadata": {},
   "outputs": [],
   "source": [
    "\n",
    "temp_input=list(x_input)\n",
    "temp_input=temp_input[0].tolist()"
   ]
  },
  {
   "cell_type": "code",
   "execution_count": 50,
   "metadata": {},
   "outputs": [
    {
     "data": {
      "text/plain": [
       "[0.44172960165852215,\n",
       " 0.48111950244335855,\n",
       " 0.49726047682511476,\n",
       " 0.4679401747371539,\n",
       " 0.4729749740855915,\n",
       " 0.47119798608026064,\n",
       " 0.47341922108692425,\n",
       " 0.4649785280616022,\n",
       " 0.4703835332444839,\n",
       " 0.47149415074781587]"
      ]
     },
     "execution_count": 50,
     "metadata": {},
     "output_type": "execute_result"
    }
   ],
   "source": [
    "temp_input"
   ]
  },
  {
   "cell_type": "code",
   "execution_count": 51,
   "metadata": {},
   "outputs": [
    {
     "data": {
      "text/plain": [
       "10"
      ]
     },
     "execution_count": 51,
     "metadata": {},
     "output_type": "execute_result"
    }
   ],
   "source": [
    "len(temp_input)"
   ]
  },
  {
   "cell_type": "markdown",
   "metadata": {},
   "source": [
    "### Predict the future 10 days and plot the graph"
   ]
  },
  {
   "cell_type": "code",
   "execution_count": 52,
   "metadata": {},
   "outputs": [
    {
     "name": "stdout",
     "output_type": "stream",
     "text": [
      "[0.47242165]\n",
      "11\n",
      "1 day input [0.4811195  0.49726048 0.46794017 0.47297497 0.47119799 0.47341922\n",
      " 0.46497853 0.47038353 0.47149415 0.47242165]\n",
      "1 day output [[0.47362074]]\n",
      "2 day input [0.49726048 0.46794017 0.47297497 0.47119799 0.47341922 0.46497853\n",
      " 0.47038353 0.47149415 0.47242165 0.47362074]\n",
      "2 day output [[0.47430098]]\n",
      "3 day input [0.46794017 0.47297497 0.47119799 0.47341922 0.46497853 0.47038353\n",
      " 0.47149415 0.47242165 0.47362074 0.47430098]\n",
      "3 day output [[0.47436884]]\n",
      "4 day input [0.47297497 0.47119799 0.47341922 0.46497853 0.47038353 0.47149415\n",
      " 0.47242165 0.47362074 0.47430098 0.47436884]\n",
      "4 day output [[0.47424442]]\n",
      "5 day input [0.47119799 0.47341922 0.46497853 0.47038353 0.47149415 0.47242165\n",
      " 0.47362074 0.47430098 0.47436884 0.47424442]\n",
      "5 day output [[0.47392124]]\n",
      "6 day input [0.47341922 0.46497853 0.47038353 0.47149415 0.47242165 0.47362074\n",
      " 0.47430098 0.47436884 0.47424442 0.47392124]\n",
      "6 day output [[0.47355184]]\n",
      "7 day input [0.46497853 0.47038353 0.47149415 0.47242165 0.47362074 0.47430098\n",
      " 0.47436884 0.47424442 0.47392124 0.47355184]\n",
      "7 day output [[0.47319523]]\n",
      "8 day input [0.47038353 0.47149415 0.47242165 0.47362074 0.47430098 0.47436884\n",
      " 0.47424442 0.47392124 0.47355184 0.47319523]\n",
      "8 day output [[0.4730134]]\n",
      "9 day input [0.47149415 0.47242165 0.47362074 0.47430098 0.47436884 0.47424442\n",
      " 0.47392124 0.47355184 0.47319523 0.4730134 ]\n",
      "9 day output [[0.47295022]]\n",
      "[[0.47242164611816406], [0.473620742559433], [0.47430098056793213], [0.4743688404560089], [0.4742444157600403], [0.4739212393760681], [0.47355183959007263], [0.47319522500038147], [0.47301340103149414], [0.4729502201080322]]\n"
     ]
    }
   ],
   "source": [
    "# demonstrate prediction for next 10 days\n",
    "from numpy import array\n",
    "\n",
    "lst_output=[]\n",
    "n_steps=10\n",
    "i=0\n",
    "while(i<10):\n",
    "    \n",
    "    if(len(temp_input)>10):\n",
    "        #print(temp_input)\n",
    "        x_input=np.array(temp_input[1:])\n",
    "        print(\"{} day input {}\".format(i,x_input))\n",
    "        x_input=x_input.reshape(1,-1)\n",
    "        x_input = x_input.reshape((1, n_steps, 1))\n",
    "        #print(x_input)\n",
    "        yhat = model.predict(x_input, verbose=0)\n",
    "        print(\"{} day output {}\".format(i,yhat))\n",
    "        temp_input.extend(yhat[0].tolist())\n",
    "        temp_input=temp_input[1:]\n",
    "        #print(temp_input)\n",
    "        lst_output.extend(yhat.tolist())\n",
    "        i=i+1\n",
    "    else:\n",
    "        x_input = x_input.reshape((1, n_steps,1))\n",
    "        yhat = model.predict(x_input, verbose=0)\n",
    "        print(yhat[0])\n",
    "        temp_input.extend(yhat[0].tolist())\n",
    "        print(len(temp_input))\n",
    "        lst_output.extend(yhat.tolist())\n",
    "        i=i+1\n",
    "\n",
    "print(lst_output)"
   ]
  },
  {
   "cell_type": "code",
   "execution_count": 53,
   "metadata": {},
   "outputs": [],
   "source": [
    "day_new=np.arange(1,11)\n",
    "day_pred=np.arange(11,21)"
   ]
  },
  {
   "cell_type": "code",
   "execution_count": 54,
   "metadata": {},
   "outputs": [
    {
     "data": {
      "text/plain": [
       "8216"
      ]
     },
     "execution_count": 54,
     "metadata": {},
     "output_type": "execute_result"
    }
   ],
   "source": [
    "len(data_oil)"
   ]
  },
  {
   "cell_type": "code",
   "execution_count": 55,
   "metadata": {},
   "outputs": [
    {
     "data": {
      "text/plain": [
       "[<matplotlib.lines.Line2D at 0x258080af978>]"
      ]
     },
     "execution_count": 55,
     "metadata": {},
     "output_type": "execute_result"
    },
    {
     "data": {
      "image/png": "[encoded data removed]",
      "text/plain": [
       "<Figure size 432x288 with 1 Axes>"
      ]
     },
     "metadata": {
      "needs_background": "light"
     },
     "output_type": "display_data"
    }
   ],
   "source": [
    "plt.plot(day_new,scaler.inverse_transform(data_oil[8206:]))\n",
    "plt.plot(day_pred,scaler.inverse_transform(lst_output))"
   ]
  },
  {
   "cell_type": "code",
   "execution_count": 56,
   "metadata": {},
   "outputs": [
    {
     "data": {
      "text/plain": [
       "[<matplotlib.lines.Line2D at 0x2580921c940>]"
      ]
     },
     "execution_count": 56,
     "metadata": {},
     "output_type": "execute_result"
    },
    {
     "data": {
      "image/png": "[encoded data removed]",
      "text/plain": [
       "<Figure size 432x288 with 1 Axes>"
      ]
     },
     "metadata": {
      "needs_background": "light"
     },
     "output_type": "display_data"
    }
   ],
   "source": [
    "df3=data_oil.tolist()\n",
    "df3.extend(lst_output)\n",
    "plt.plot(df3[8100:])"
   ]
  },
  {
   "cell_type": "code",
   "execution_count": 57,
   "metadata": {},
   "outputs": [],
   "source": [
    "df3=scaler.inverse_transform(df3).tolist()"
   ]
  },
  {
   "cell_type": "code",
   "execution_count": 58,
   "metadata": {},
   "outputs": [
    {
     "data": {
      "text/plain": [
       "[<matplotlib.lines.Line2D at 0x2587e2c70f0>]"
      ]
     },
     "execution_count": 58,
     "metadata": {},
     "output_type": "execute_result"
    },
    {
     "data": {
      "image/png": "[encoded data removed]",
      "text/plain": [
       "<Figure size 432x288 with 1 Axes>"
      ]
     },
     "metadata": {
      "needs_background": "light"
     },
     "output_type": "display_data"
    }
   ],
   "source": [
    "plt.plot(df3)"
   ]
  },
  {
   "cell_type": "code",
   "execution_count": 60,
   "metadata": {},
   "outputs": [
    {
     "name": "stdout",
     "output_type": "stream",
     "text": [
      "Collecting jupyterthemes\n",
      "  Using cached jupyterthemes-0.20.0-py2.py3-none-any.whl (7.0 MB)\n",
      "Requirement already satisfied: jupyter-core in c:\\users\\hp\\anaconda3\\envs\\myenv\\lib\\site-packages (from jupyterthemes) (4.9.1)\n",
      "Requirement already satisfied: ipython>=5.4.1 in c:\\users\\hp\\anaconda3\\envs\\myenv\\lib\\site-packages (from jupyterthemes) (7.16.1)\n",
      "Collecting lesscpy>=0.11.2\n",
      "  Downloading lesscpy-0.15.0-py2.py3-none-any.whl (46 kB)\n",
      "Requirement already satisfied: notebook>=5.6.0 in c:\\users\\hp\\anaconda3\\envs\\myenv\\lib\\site-packages (from jupyterthemes) (6.4.5)\n",
      "Requirement already satisfied: matplotlib>=1.4.3 in c:\\users\\hp\\anaconda3\\envs\\myenv\\lib\\site-packages (from jupyterthemes) (3.3.4)\n",
      "Requirement already satisfied: traitlets>=4.2 in c:\\users\\hp\\anaconda3\\envs\\myenv\\lib\\site-packages (from ipython>=5.4.1->jupyterthemes) (4.3.3)\n",
      "Requirement already satisfied: prompt-toolkit!=3.0.0,!=3.0.1,<3.1.0,>=2.0.0 in c:\\users\\hp\\anaconda3\\envs\\myenv\\lib\\site-packages (from ipython>=5.4.1->jupyterthemes) (3.0.22)\n",
      "Requirement already satisfied: setuptools>=18.5 in c:\\users\\hp\\anaconda3\\envs\\myenv\\lib\\site-packages (from ipython>=5.4.1->jupyterthemes) (58.0.4)\n",
      "Requirement already satisfied: jedi>=0.10 in c:\\users\\hp\\anaconda3\\envs\\myenv\\lib\\site-packages (from ipython>=5.4.1->jupyterthemes) (0.18.0)\n",
      "Requirement already satisfied: decorator in c:\\users\\hp\\anaconda3\\envs\\myenv\\lib\\site-packages (from ipython>=5.4.1->jupyterthemes) (4.4.2)\n",
      "Requirement already satisfied: colorama in c:\\users\\hp\\anaconda3\\envs\\myenv\\lib\\site-packages (from ipython>=5.4.1->jupyterthemes) (0.4.4)\n",
      "Requirement already satisfied: backcall in c:\\users\\hp\\anaconda3\\envs\\myenv\\lib\\site-packages (from ipython>=5.4.1->jupyterthemes) (0.2.0)\n",
      "Requirement already satisfied: pickleshare in c:\\users\\hp\\anaconda3\\envs\\myenv\\lib\\site-packages (from ipython>=5.4.1->jupyterthemes) (0.7.5)\n",
      "Requirement already satisfied: pygments in c:\\users\\hp\\anaconda3\\envs\\myenv\\lib\\site-packages (from ipython>=5.4.1->jupyterthemes) (2.10.0)\n",
      "Requirement already satisfied: parso<0.9.0,>=0.8.0 in c:\\users\\hp\\anaconda3\\envs\\myenv\\lib\\site-packages (from jedi>=0.10->ipython>=5.4.1->jupyterthemes) (0.8.2)\n",
      "Collecting ply\n",
      "  Downloading ply-3.11-py2.py3-none-any.whl (49 kB)\n",
      "Requirement already satisfied: six in c:\\users\\hp\\anaconda3\\envs\\myenv\\lib\\site-packages (from lesscpy>=0.11.2->jupyterthemes) (1.16.0)\n",
      "Requirement already satisfied: pyparsing!=2.0.4,!=2.1.2,!=2.1.6,>=2.0.3 in c:\\users\\hp\\anaconda3\\envs\\myenv\\lib\\site-packages (from matplotlib>=1.4.3->jupyterthemes) (2.4.7)\n",
      "Requirement already satisfied: cycler>=0.10 in c:\\users\\hp\\anaconda3\\envs\\myenv\\lib\\site-packages (from matplotlib>=1.4.3->jupyterthemes) (0.11.0)\n",
      "Requirement already satisfied: kiwisolver>=1.0.1 in c:\\users\\hp\\anaconda3\\envs\\myenv\\lib\\site-packages (from matplotlib>=1.4.3->jupyterthemes) (1.3.1)\n",
      "Requirement already satisfied: pillow>=6.2.0 in c:\\users\\hp\\anaconda3\\envs\\myenv\\lib\\site-packages (from matplotlib>=1.4.3->jupyterthemes) (8.4.0)\n",
      "Requirement already satisfied: python-dateutil>=2.1 in c:\\users\\hp\\anaconda3\\envs\\myenv\\lib\\site-packages (from matplotlib>=1.4.3->jupyterthemes) (2.8.2)\n",
      "Requirement already satisfied: numpy>=1.15 in c:\\users\\hp\\anaconda3\\envs\\myenv\\lib\\site-packages (from matplotlib>=1.4.3->jupyterthemes) (1.18.5)\n",
      "Requirement already satisfied: pyzmq>=17 in c:\\users\\hp\\anaconda3\\envs\\myenv\\lib\\site-packages (from notebook>=5.6.0->jupyterthemes) (22.3.0)\n",
      "Requirement already satisfied: ipython-genutils in c:\\users\\hp\\anaconda3\\envs\\myenv\\lib\\site-packages (from notebook>=5.6.0->jupyterthemes) (0.2.0)\n",
      "Requirement already satisfied: terminado>=0.8.3 in c:\\users\\hp\\anaconda3\\envs\\myenv\\lib\\site-packages (from notebook>=5.6.0->jupyterthemes) (0.12.1)\n",
      "Requirement already satisfied: jupyter-client>=5.3.4 in c:\\users\\hp\\anaconda3\\envs\\myenv\\lib\\site-packages (from notebook>=5.6.0->jupyterthemes) (6.1.12)\n",
      "Requirement already satisfied: tornado>=6.1 in c:\\users\\hp\\anaconda3\\envs\\myenv\\lib\\site-packages (from notebook>=5.6.0->jupyterthemes) (6.1)\n",
      "Requirement already satisfied: nbformat in c:\\users\\hp\\anaconda3\\envs\\myenv\\lib\\site-packages (from notebook>=5.6.0->jupyterthemes) (5.1.3)\n",
      "Requirement already satisfied: nbconvert in c:\\users\\hp\\anaconda3\\envs\\myenv\\lib\\site-packages (from notebook>=5.6.0->jupyterthemes) (6.0.7)\n",
      "Requirement already satisfied: prometheus-client in c:\\users\\hp\\anaconda3\\envs\\myenv\\lib\\site-packages (from notebook>=5.6.0->jupyterthemes) (0.12.0)\n",
      "Requirement already satisfied: Send2Trash>=1.5.0 in c:\\users\\hp\\anaconda3\\envs\\myenv\\lib\\site-packages (from notebook>=5.6.0->jupyterthemes) (1.8.0)\n",
      "Requirement already satisfied: ipykernel in c:\\users\\hp\\anaconda3\\envs\\myenv\\lib\\site-packages (from notebook>=5.6.0->jupyterthemes) (5.5.6)\n",
      "Requirement already satisfied: argon2-cffi in c:\\users\\hp\\anaconda3\\envs\\myenv\\lib\\site-packages (from notebook>=5.6.0->jupyterthemes) (21.1.0)\n",
      "Requirement already satisfied: jinja2 in c:\\users\\hp\\anaconda3\\envs\\myenv\\lib\\site-packages (from notebook>=5.6.0->jupyterthemes) (3.0.2)\n",
      "Requirement already satisfied: pywin32>=1.0 in c:\\users\\hp\\anaconda3\\envs\\myenv\\lib\\site-packages (from jupyter-core->jupyterthemes) (302)\n",
      "Requirement already satisfied: wcwidth in c:\\users\\hp\\anaconda3\\envs\\myenv\\lib\\site-packages (from prompt-toolkit!=3.0.0,!=3.0.1,<3.1.0,>=2.0.0->ipython>=5.4.1->jupyterthemes) (0.2.5)\n",
      "Requirement already satisfied: pywinpty>=1.1.0 in c:\\users\\hp\\anaconda3\\envs\\myenv\\lib\\site-packages (from terminado>=0.8.3->notebook>=5.6.0->jupyterthemes) (1.1.5)\n",
      "Requirement already satisfied: cffi>=1.0.0 in c:\\users\\hp\\anaconda3\\envs\\myenv\\lib\\site-packages (from argon2-cffi->notebook>=5.6.0->jupyterthemes) (1.15.0)\n",
      "Requirement already satisfied: pycparser in c:\\users\\hp\\anaconda3\\envs\\myenv\\lib\\site-packages (from cffi>=1.0.0->argon2-cffi->notebook>=5.6.0->jupyterthemes) (2.21)\n",
      "Requirement already satisfied: MarkupSafe>=2.0 in c:\\users\\hp\\anaconda3\\envs\\myenv\\lib\\site-packages (from jinja2->notebook>=5.6.0->jupyterthemes) (2.0.1)\n",
      "Requirement already satisfied: bleach in c:\\users\\hp\\anaconda3\\envs\\myenv\\lib\\site-packages (from nbconvert->notebook>=5.6.0->jupyterthemes) (4.1.0)\n",
      "Requirement already satisfied: pandocfilters>=1.4.1 in c:\\users\\hp\\anaconda3\\envs\\myenv\\lib\\site-packages (from nbconvert->notebook>=5.6.0->jupyterthemes) (1.5.0)\n",
      "Requirement already satisfied: jupyterlab-pygments in c:\\users\\hp\\anaconda3\\envs\\myenv\\lib\\site-packages (from nbconvert->notebook>=5.6.0->jupyterthemes) (0.1.2)\n",
      "Requirement already satisfied: nbclient<0.6.0,>=0.5.0 in c:\\users\\hp\\anaconda3\\envs\\myenv\\lib\\site-packages (from nbconvert->notebook>=5.6.0->jupyterthemes) (0.5.4)\n",
      "Requirement already satisfied: defusedxml in c:\\users\\hp\\anaconda3\\envs\\myenv\\lib\\site-packages (from nbconvert->notebook>=5.6.0->jupyterthemes) (0.7.1)\n",
      "Requirement already satisfied: testpath in c:\\users\\hp\\anaconda3\\envs\\myenv\\lib\\site-packages (from nbconvert->notebook>=5.6.0->jupyterthemes) (0.5.0)\n",
      "Requirement already satisfied: entrypoints>=0.2.2 in c:\\users\\hp\\anaconda3\\envs\\myenv\\lib\\site-packages (from nbconvert->notebook>=5.6.0->jupyterthemes) (0.3)\n",
      "Requirement already satisfied: mistune<2,>=0.8.1 in c:\\users\\hp\\anaconda3\\envs\\myenv\\lib\\site-packages (from nbconvert->notebook>=5.6.0->jupyterthemes) (0.8.4)\n",
      "Requirement already satisfied: async-generator in c:\\users\\hp\\anaconda3\\envs\\myenv\\lib\\site-packages (from nbclient<0.6.0,>=0.5.0->nbconvert->notebook>=5.6.0->jupyterthemes) (1.10)\n",
      "Requirement already satisfied: nest-asyncio in c:\\users\\hp\\anaconda3\\envs\\myenv\\lib\\site-packages (from nbclient<0.6.0,>=0.5.0->nbconvert->notebook>=5.6.0->jupyterthemes) (1.5.1)\n",
      "Requirement already satisfied: jsonschema!=2.5.0,>=2.4 in c:\\users\\hp\\anaconda3\\envs\\myenv\\lib\\site-packages (from nbformat->notebook>=5.6.0->jupyterthemes) (3.2.0)\n",
      "Requirement already satisfied: pyrsistent>=0.14.0 in c:\\users\\hp\\anaconda3\\envs\\myenv\\lib\\site-packages (from jsonschema!=2.5.0,>=2.4->nbformat->notebook>=5.6.0->jupyterthemes) (0.18.0)\n",
      "Requirement already satisfied: attrs>=17.4.0 in c:\\users\\hp\\anaconda3\\envs\\myenv\\lib\\site-packages (from jsonschema!=2.5.0,>=2.4->nbformat->notebook>=5.6.0->jupyterthemes) (21.2.0)\n",
      "Requirement already satisfied: importlib-metadata in c:\\users\\hp\\anaconda3\\envs\\myenv\\lib\\site-packages (from jsonschema!=2.5.0,>=2.4->nbformat->notebook>=5.6.0->jupyterthemes) (4.8.1)\n",
      "Requirement already satisfied: webencodings in c:\\users\\hp\\anaconda3\\envs\\myenv\\lib\\site-packages (from bleach->nbconvert->notebook>=5.6.0->jupyterthemes) (0.5.1)\n",
      "Requirement already satisfied: packaging in c:\\users\\hp\\anaconda3\\envs\\myenv\\lib\\site-packages (from bleach->nbconvert->notebook>=5.6.0->jupyterthemes) (21.2)\n",
      "Requirement already satisfied: zipp>=0.5 in c:\\users\\hp\\anaconda3\\envs\\myenv\\lib\\site-packages (from importlib-metadata->jsonschema!=2.5.0,>=2.4->nbformat->notebook>=5.6.0->jupyterthemes) (3.6.0)\n",
      "Requirement already satisfied: typing-extensions>=3.6.4 in c:\\users\\hp\\anaconda3\\envs\\myenv\\lib\\site-packages (from importlib-metadata->jsonschema!=2.5.0,>=2.4->nbformat->notebook>=5.6.0->jupyterthemes) (3.10.0.2)\n",
      "Installing collected packages: ply, lesscpy, jupyterthemes\n",
      "Successfully installed jupyterthemes-0.20.0 lesscpy-0.15.0 ply-3.11\n",
      "Note: you may need to restart the kernel to use updated packages.\n"
     ]
    }
   ],
   "source": [
    "pip install jupyterthemes"
   ]
  },
  {
   "cell_type": "code",
   "execution_count": 61,
   "metadata": {},
   "outputs": [],
   "source": [
    "import jupyterthemes"
   ]
  },
  {
   "cell_type": "code",
   "execution_count": 62,
   "metadata": {},
   "outputs": [
    {
     "name": "stdout",
     "output_type": "stream",
     "text": [
      "Reset css and font defaults in:\n",
      "C:\\Users\\HP\\.jupyter\\custom &\n",
      "C:\\Users\\HP\\AppData\\Roaming\\jupyter\\nbextensions\n"
     ]
    }
   ],
   "source": [
    "!jt -r"
   ]
  },
  {
   "cell_type": "code",
   "execution_count": null,
   "metadata": {},
   "outputs": [],
   "source": []
  }
 ],
 "metadata": {
  "kernelspec": {
   "display_name": "Python 3",
   "language": "python",
   "name": "python3"
  },
  "language_info": {
   "codemirror_mode": {
    "name": "ipython",
    "version": 3
   },
   "file_extension": ".py",
   "mimetype": "text/x-python",
   "name": "python",
   "nbconvert_exporter": "python",
   "pygments_lexer": "ipython3",
   "version": "3.6.9"
  }
 },
 "nbformat": 4,
 "nbformat_minor": 4
}
